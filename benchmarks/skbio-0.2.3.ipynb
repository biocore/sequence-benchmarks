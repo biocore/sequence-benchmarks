{
 "cells": [
  {
   "cell_type": "code",
   "execution_count": 23,
   "metadata": {
    "collapsed": false
   },
   "outputs": [],
   "source": [
    "from test_data import gapped_sequences, sequences, motif_1\n",
    "from benchmark import Benchmark\n",
    "from skbio.sequence import DNASequence,  genetic_code\n",
    "import skbio.io\n",
    "skbio_023_benchmark = Benchmark(\"scikit-bio 0.2.3\")\n",
    "from qiime_default_reference import get_reference_sequences"
   ]
  },
  {
   "cell_type": "code",
   "execution_count": 24,
   "metadata": {
    "collapsed": false
   },
   "outputs": [],
   "source": [
    "from skbio import DNA\n",
    "skbio_seqs = [DNA(seq, id=str(id)) for id_, seq in sequences]\n",
    "skbio_gapped_seqs = [DNA(seq, id=str(id)) for id_, seq in gapped_sequences]"
   ]
  },
  {
   "cell_type": "code",
   "execution_count": 25,
   "metadata": {
    "collapsed": false,
    "scrolled": true
   },
   "outputs": [
    {
     "name": "stdout",
     "output_type": "stream",
     "text": [
      "1000 loops, best of 3: 695 µs per loop\n"
     ]
    }
   ],
   "source": [
    "@skbio_023_benchmark\n",
    "def object_creation():\n",
    "    for id_, seq in sequences:\n",
    "        DNA(seq, id=id_)"
   ]
  },
  {
   "cell_type": "code",
   "execution_count": 26,
   "metadata": {
    "collapsed": false
   },
   "outputs": [
    {
     "name": "stdout",
     "output_type": "stream",
     "text": [
      "10 loops, best of 3: 56.2 ms per loop\n"
     ]
    }
   ],
   "source": [
    "@skbio_023_benchmark\n",
    "def object_creation_validate():\n",
    "    for id_, seq in sequences:\n",
    "        DNA(seq, id=id_, validate=True)"
   ]
  },
  {
   "cell_type": "code",
   "execution_count": 27,
   "metadata": {
    "collapsed": false,
    "scrolled": true
   },
   "outputs": [
    {
     "name": "stdout",
     "output_type": "stream",
     "text": [
      "1 loops, best of 3: 1.23 s per loop\n"
     ]
    }
   ],
   "source": [
    "@skbio_023_benchmark\n",
    "def read_fasta_file():\n",
    "    list(skbio.io.read(get_reference_sequences(), format='fasta'))"
   ]
  },
  {
   "cell_type": "code",
   "execution_count": 28,
   "metadata": {
    "collapsed": false
   },
   "outputs": [
    {
     "name": "stdout",
     "output_type": "stream",
     "text": [
      "1 loops, best of 3: 173 ms per loop\n"
     ]
    }
   ],
   "source": [
    "@skbio_023_benchmark\n",
    "def reverse_complement():\n",
    "    for s in skbio_seqs:\n",
    "        s.reverse_complement()"
   ]
  },
  {
   "cell_type": "code",
   "execution_count": 29,
   "metadata": {
    "collapsed": false
   },
   "outputs": [
    {
     "name": "stdout",
     "output_type": "stream",
     "text": [
      "1000 loops, best of 3: 405 µs per loop\n"
     ]
    }
   ],
   "source": [
    "@skbio_023_benchmark\n",
    "def search_for_motif():\n",
    "    for s in skbio_seqs:\n",
    "        s.regex_iter(\"(\"+motif_1+\")\")"
   ]
  },
  {
   "cell_type": "code",
   "execution_count": 30,
   "metadata": {
    "collapsed": false
   },
   "outputs": [
    {
     "name": "stdout",
     "output_type": "stream",
     "text": [
      "1 loops, best of 3: 2.21 s per loop\n"
     ]
    }
   ],
   "source": [
    "@skbio_023_benchmark\n",
    "def translate():\n",
    "    gen_code = genetic_code(1)\n",
    "    for s in skbio_seqs:\n",
    "        gen_code.translate(s)\n",
    "        "
   ]
  },
  {
   "cell_type": "code",
   "execution_count": 31,
   "metadata": {
    "collapsed": false
   },
   "outputs": [],
   "source": [
    "# @skbio_023_benchmark\n",
    "# def reverse_translate():\n",
    "#     gen_code = genetic_code(1)\n",
    "#     for s in skbio_seqs:\n",
    "#         gen_code.translate(''.join(reversed(s)))"
   ]
  },
  {
   "cell_type": "code",
   "execution_count": 32,
   "metadata": {
    "collapsed": false
   },
   "outputs": [
    {
     "name": "stdout",
     "output_type": "stream",
     "text": [
      "1000 loops, best of 3: 780 µs per loop\n"
     ]
    }
   ],
   "source": [
    "@skbio_023_benchmark\n",
    "def filter_fasta_to_no_gaps():\n",
    "    [s for s in skbio_gapped_seqs if not s.is_gapped()]"
   ]
  },
  {
   "cell_type": "code",
   "execution_count": 33,
   "metadata": {
    "collapsed": false
   },
   "outputs": [
    {
     "name": "stdout",
     "output_type": "stream",
     "text": [
      "1 loops, best of 3: 648 ms per loop\n"
     ]
    }
   ],
   "source": [
    "@skbio_023_benchmark\n",
    "def degap_all():\n",
    "    for s in skbio_gapped_seqs:\n",
    "        s.degap()"
   ]
  },
  {
   "cell_type": "code",
   "execution_count": 34,
   "metadata": {
    "collapsed": false
   },
   "outputs": [
    {
     "name": "stdout",
     "output_type": "stream",
     "text": [
      "1 loops, best of 3: 5.73 s per loop\n"
     ]
    }
   ],
   "source": [
    "@skbio_023_benchmark\n",
    "def kmer_count_5():\n",
    "    for s in skbio_seqs:\n",
    "        s.k_word_counts(5, overlapping=True)"
   ]
  },
  {
   "cell_type": "code",
   "execution_count": 35,
   "metadata": {
    "collapsed": false
   },
   "outputs": [
    {
     "name": "stdout",
     "output_type": "stream",
     "text": [
      "1 loops, best of 3: 5.76 s per loop\n"
     ]
    }
   ],
   "source": [
    "@skbio_023_benchmark\n",
    "def kmer_count_25():\n",
    "    for s in skbio_seqs:\n",
    "        s.k_word_counts(25, overlapping=True)"
   ]
  },
  {
   "cell_type": "code",
   "execution_count": 36,
   "metadata": {
    "collapsed": false
   },
   "outputs": [
    {
     "name": "stdout",
     "output_type": "stream",
     "text": [
      "10 loops, best of 3: 58.5 ms per loop\n"
     ]
    }
   ],
   "source": [
    "@skbio_023_benchmark\n",
    "def validate_chars():\n",
    "    for s in skbio_seqs:\n",
    "        s.is_valid()"
   ]
  },
  {
   "cell_type": "code",
   "execution_count": 37,
   "metadata": {
    "collapsed": false
   },
   "outputs": [
    {
     "name": "stdout",
     "output_type": "stream",
     "text": [
      "10 loops, best of 3: 55.9 ms per loop\n"
     ]
    }
   ],
   "source": [
    "@skbio_023_benchmark\n",
    "def filter_invalid_seqs():\n",
    "    [s for s in skbio_seqs if s.is_valid()]"
   ]
  },
  {
   "cell_type": "code",
   "execution_count": 38,
   "metadata": {
    "collapsed": false
   },
   "outputs": [
    {
     "name": "stdout",
     "output_type": "stream",
     "text": [
      "1 loops, best of 3: 416 ms per loop\n"
     ]
    }
   ],
   "source": [
    "@skbio_023_benchmark\n",
    "def expand_degenerates():\n",
    "    for s in skbio_seqs:\n",
    "        list(s.nondegenerates())"
   ]
  },
  {
   "cell_type": "code",
   "execution_count": 39,
   "metadata": {
    "collapsed": false
   },
   "outputs": [
    {
     "name": "stdout",
     "output_type": "stream",
     "text": [
      "10 loops, best of 3: 63.8 ms per loop\n"
     ]
    }
   ],
   "source": [
    "@skbio_023_benchmark\n",
    "def gc_content():\n",
    "    for s in skbio_seqs:\n",
    "        gc = 0\n",
    "        for i in s:\n",
    "            if i in ['G', 'C']:\n",
    "                gc += 1\n",
    "        gc * 1.0 / len(s)"
   ]
  },
  {
   "cell_type": "code",
   "execution_count": 40,
   "metadata": {
    "collapsed": false
   },
   "outputs": [
    {
     "name": "stdout",
     "output_type": "stream",
     "text": [
      "1 loops, best of 3: 5.6 s per loop\n"
     ]
    }
   ],
   "source": [
    "@skbio_023_benchmark\n",
    "def find_motif_in_gapped():\n",
    "    m_len = len(motif_1)\n",
    "    for s in skbio_gapped_seqs:\n",
    "        s_ungapped = str(s.degap())\n",
    "        m = s.gap_maps()\n",
    "        found = s_ungapped.find(motif_1)\n",
    "        if found > 0:\n",
    "            start = m[0][found]\n",
    "            end   = start + m_len\n",
    "            s[start:end]"
   ]
  },
  {
   "cell_type": "code",
   "execution_count": 41,
   "metadata": {
    "collapsed": false
   },
   "outputs": [
    {
     "name": "stdout",
     "output_type": "stream",
     "text": [
      "100 loops, best of 3: 2.82 ms per loop\n"
     ]
    }
   ],
   "source": [
    "@skbio_023_benchmark\n",
    "def slice_at_midpoint():\n",
    "    for e in skbio_seqs:\n",
    "        e[:len(e)]"
   ]
  },
  {
   "cell_type": "code",
   "execution_count": 42,
   "metadata": {
    "collapsed": true
   },
   "outputs": [],
   "source": [
    "skbio_023_benchmark.record(\"skbio023.csv\")"
   ]
  }
 ],
 "metadata": {
  "kernelspec": {
   "display_name": "Python 2",
   "language": "python",
   "name": "python2"
  },
  "language_info": {
   "codemirror_mode": {
    "name": "ipython",
    "version": 2
   },
   "file_extension": ".py",
   "mimetype": "text/x-python",
   "name": "python",
   "nbconvert_exporter": "python",
   "pygments_lexer": "ipython2",
   "version": "2.7.6"
  }
 },
 "nbformat": 4,
 "nbformat_minor": 0
}
