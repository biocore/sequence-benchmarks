{
 "cells": [
  {
   "cell_type": "code",
   "execution_count": 4,
   "metadata": {
    "collapsed": false
   },
   "outputs": [],
   "source": [
    "from test_data import gapped_sequences, sequences, motif_1\n",
    "from benchmark import Benchmark\n",
    "from skbio.sequence import genetic_code, DNA\n",
    "from qiime_default_reference import get_reference_sequences\n",
    "\n",
    "from skbio.io import read\n",
    "\n",
    "skbio_benchmark = Benchmark(\"scikit-bio master\")\n",
    "motif_1_regex = '(' + motif_1 + ')'\n"
   ]
  },
  {
   "cell_type": "code",
   "execution_count": 5,
   "metadata": {
    "collapsed": false
   },
   "outputs": [],
   "source": [
    "from skbio import DNA\n",
    "skbio_seqs = [DNA(seq, id=str(id)) for id_, seq in sequences]\n",
    "skbio_gapped_seqs = [DNA(seq, id=str(id)) for id_, seq in gapped_sequences]"
   ]
  },
  {
   "cell_type": "code",
   "execution_count": 6,
   "metadata": {
    "collapsed": false,
    "scrolled": true
   },
   "outputs": [
    {
     "name": "stdout",
     "output_type": "stream",
     "text": [
      "100 loops, best of 3: 4.48 ms per loop\n"
     ]
    }
   ],
   "source": [
    "@skbio_benchmark\n",
    "def object_creation():\n",
    "    for id_, seq in sequences:\n",
    "        DNA(seq, id=id_, validate=False)"
   ]
  },
  {
   "cell_type": "code",
   "execution_count": 7,
   "metadata": {
    "collapsed": false
   },
   "outputs": [
    {
     "name": "stdout",
     "output_type": "stream",
     "text": [
      "100 loops, best of 3: 14.2 ms per loop\n"
     ]
    }
   ],
   "source": [
    "@skbio_benchmark\n",
    "def object_creation_validate():\n",
    "    for id_, seq in sequences:\n",
    "        DNA(seq, id=id_)"
   ]
  },
  {
   "cell_type": "code",
   "execution_count": 8,
   "metadata": {
    "collapsed": false
   },
   "outputs": [
    {
     "name": "stdout",
     "output_type": "stream",
     "text": [
      "1 loops, best of 3: 13.3 s per loop\n"
     ]
    }
   ],
   "source": [
    "@skbio_benchmark\n",
    "def reverse_complement():\n",
    "    for s in skbio_seqs:\n",
    "        s.reverse_complement()"
   ]
  },
  {
   "cell_type": "code",
   "execution_count": 9,
   "metadata": {
    "collapsed": false
   },
   "outputs": [
    {
     "name": "stdout",
     "output_type": "stream",
     "text": [
      "10 loops, best of 3: 43.6 ms per loop\n"
     ]
    }
   ],
   "source": [
    "@skbio_benchmark\n",
    "def degap_all():\n",
    "    for s in skbio_gapped_seqs:\n",
    "        s.degap()"
   ]
  },
  {
   "cell_type": "code",
   "execution_count": 10,
   "metadata": {
    "collapsed": false
   },
   "outputs": [
    {
     "name": "stdout",
     "output_type": "stream",
     "text": [
      "1 loops, best of 3: 6.71 s per loop\n"
     ]
    }
   ],
   "source": [
    "#John\n",
    "sgc = genetic_code(1)\n",
    "@skbio_benchmark\n",
    "def translate():\n",
    "    for seq in skbio_seqs:\n",
    "        sgc.translate(seq, 1)\n",
    " "
   ]
  },
  {
   "cell_type": "code",
   "execution_count": 11,
   "metadata": {
    "collapsed": false
   },
   "outputs": [
    {
     "name": "stdout",
     "output_type": "stream",
     "text": [
      "10 loops, best of 3: 24.4 ms per loop\n"
     ]
    }
   ],
   "source": [
    "@skbio_benchmark\n",
    "def search_for_motif():\n",
    "    for seq in skbio_seqs:\n",
    "        list(seq.slices_from_regex(motif_1_regex))"
   ]
  },
  {
   "cell_type": "code",
   "execution_count": 12,
   "metadata": {
    "collapsed": false
   },
   "outputs": [
    {
     "name": "stdout",
     "output_type": "stream",
     "text": [
      "1 loops, best of 3: 18.4 s per loop\n"
     ]
    }
   ],
   "source": [
    "@skbio_benchmark\n",
    "def kmer_count_5():\n",
    "    for seq in skbio_seqs:\n",
    "        seq.kmer_frequencies(5)"
   ]
  },
  {
   "cell_type": "code",
   "execution_count": 13,
   "metadata": {
    "collapsed": false
   },
   "outputs": [
    {
     "name": "stdout",
     "output_type": "stream",
     "text": [
      "1 loops, best of 3: 19.4 s per loop\n"
     ]
    }
   ],
   "source": [
    "@skbio_benchmark\n",
    "def kmer_count_25():\n",
    "    for seq in skbio_seqs:\n",
    "        seq.kmer_frequencies(25)"
   ]
  },
  {
   "cell_type": "code",
   "execution_count": 14,
   "metadata": {
    "collapsed": false
   },
   "outputs": [
    {
     "name": "stdout",
     "output_type": "stream",
     "text": [
      "100 loops, best of 3: 19.2 ms per loop\n"
     ]
    }
   ],
   "source": [
    "@skbio_benchmark\n",
    "def validate_chars():\n",
    "    for s in skbio_seqs:\n",
    "        DNA(s)"
   ]
  },
  {
   "cell_type": "code",
   "execution_count": 15,
   "metadata": {
    "collapsed": false
   },
   "outputs": [
    {
     "name": "stdout",
     "output_type": "stream",
     "text": [
      "100 loops, best of 3: 20.4 ms per loop\n"
     ]
    }
   ],
   "source": [
    "l = []\n",
    "@skbio_benchmark\n",
    "def filter_invalid_seqs():\n",
    "    for s in skbio_seqs:\n",
    "        try:\n",
    "            l.append(DNA(s))\n",
    "        except ValueError:\n",
    "            pass"
   ]
  },
  {
   "cell_type": "code",
   "execution_count": 16,
   "metadata": {
    "collapsed": false
   },
   "outputs": [
    {
     "name": "stdout",
     "output_type": "stream",
     "text": [
      "1 loops, best of 3: 13.1 s per loop\n"
     ]
    }
   ],
   "source": [
    "@skbio_benchmark\n",
    "def expand_degenerates():\n",
    "    for s in skbio_seqs:\n",
    "        list(s.expand_degenerates())"
   ]
  },
  {
   "cell_type": "code",
   "execution_count": 17,
   "metadata": {
    "collapsed": false
   },
   "outputs": [
    {
     "name": "stdout",
     "output_type": "stream",
     "text": [
      "10 loops, best of 3: 18.3 ms per loop\n"
     ]
    }
   ],
   "source": [
    "@skbio_benchmark\n",
    "def gc_content():\n",
    "    for s in skbio_seqs:\n",
    "        float(s.count(\"G\") + s.count(\"C\"))/len(s)"
   ]
  },
  {
   "cell_type": "code",
   "execution_count": 18,
   "metadata": {
    "collapsed": false
   },
   "outputs": [
    {
     "name": "stdout",
     "output_type": "stream",
     "text": [
      "10 loops, best of 3: 90.1 ms per loop\n"
     ]
    }
   ],
   "source": [
    "@skbio_benchmark\n",
    "def find_motif_in_gapped():\n",
    "    for seq in skbio_gapped_seqs:\n",
    "        list(seq.slices_from_regex(motif_1_regex, ignore=seq.gaps()))"
   ]
  },
  {
   "cell_type": "code",
   "execution_count": 19,
   "metadata": {
    "collapsed": false,
    "scrolled": true
   },
   "outputs": [
    {
     "name": "stdout",
     "output_type": "stream",
     "text": [
      "1 loops, best of 3: 1.87 s per loop\n"
     ]
    }
   ],
   "source": [
    "@skbio_benchmark\n",
    "def read_fasta_file():\n",
    "    list(read(get_reference_sequences(), format='fasta'))"
   ]
  },
  {
   "cell_type": "code",
   "execution_count": 20,
   "metadata": {
    "collapsed": false
   },
   "outputs": [
    {
     "name": "stdout",
     "output_type": "stream",
     "text": [
      "100 loops, best of 3: 11.1 ms per loop\n"
     ]
    }
   ],
   "source": [
    "@skbio_benchmark\n",
    "def slice_at_midpoint():\n",
    "    for e in skbio_seqs:\n",
    "        e[:len(e)]"
   ]
  },
  {
   "cell_type": "code",
   "execution_count": 21,
   "metadata": {
    "collapsed": true
   },
   "outputs": [],
   "source": [
    "# @skbio_benchmark\n",
    "# def reverse_translate():\n",
    "#     pass"
   ]
  },
  {
   "cell_type": "code",
   "execution_count": 22,
   "metadata": {
    "collapsed": true
   },
   "outputs": [],
   "source": [
    "# @skbio_benchmark\n",
    "# def filter_fasta_to_no_gaps():\n",
    "#     pass"
   ]
  },
  {
   "cell_type": "code",
   "execution_count": 23,
   "metadata": {
    "collapsed": true
   },
   "outputs": [],
   "source": [
    "\n",
    "# @skbio_benchmark\n",
    "# def rc_find_motif():\n",
    "#     pass"
   ]
  },
  {
   "cell_type": "code",
   "execution_count": 24,
   "metadata": {
    "collapsed": true
   },
   "outputs": [],
   "source": [
    "skbio_benchmark.record(\"skbio.csv\")"
   ]
  }
 ],
 "metadata": {
  "kernelspec": {
   "display_name": "Python 2",
   "language": "python",
   "name": "python2"
  },
  "language_info": {
   "codemirror_mode": {
    "name": "ipython",
    "version": 2
   },
   "file_extension": ".py",
   "mimetype": "text/x-python",
   "name": "python",
   "nbconvert_exporter": "python",
   "pygments_lexer": "ipython2",
   "version": "2.7.6"
  }
 },
 "nbformat": 4,
 "nbformat_minor": 0
}
