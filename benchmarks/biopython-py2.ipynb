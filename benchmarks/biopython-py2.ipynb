{
 "cells": [
  {
   "cell_type": "code",
   "execution_count": 1,
   "metadata": {
    "collapsed": false
   },
   "outputs": [],
   "source": [
    "from test_data import gapped_sequences, sequences, motif_1\n",
    "from benchmark import Benchmark\n",
    "from Bio.Seq import Seq\n",
    "from Bio.Alphabet import IUPAC, generic_dna, _verify_alphabet\n",
    "from Bio.SeqUtils import GC\n",
    "from Bio import SeqIO, motifs\n",
    "from qiime_default_reference import get_reference_sequences\n",
    "\n",
    "biopy_benchmark = Benchmark(\"biopython\")\n",
    "\n",
    "biopy_seqs = [Seq(seq, generic_dna) for ident, seq in sequences]\n",
    "gapped_biopy_seqs = [Seq(seq, generic_dna) for ident, seq in gapped_sequences]"
   ]
  },
  {
   "cell_type": "code",
   "execution_count": 2,
   "metadata": {
    "collapsed": false
   },
   "outputs": [
    {
     "name": "stdout",
     "output_type": "stream",
     "text": [
      "1000 loops, best of 3: 425 µs per loop\n"
     ]
    }
   ],
   "source": [
    "@biopy_benchmark\n",
    "def object_creation():\n",
    "    for ident, seq in sequences:\n",
    "        Seq(seq, generic_dna)"
   ]
  },
  {
   "cell_type": "code",
   "execution_count": 3,
   "metadata": {
    "collapsed": false
   },
   "outputs": [
    {
     "name": "stdout",
     "output_type": "stream",
     "text": [
      "1 loops, best of 3: 360 ms per loop\n"
     ]
    }
   ],
   "source": [
    "@biopy_benchmark\n",
    "def object_creation_validate():\n",
    "    for ident, seq in sequences:\n",
    "        _verify_alphabet(Seq(seq, IUPAC.IUPACAmbiguousDNA))"
   ]
  },
  {
   "cell_type": "code",
   "execution_count": 4,
   "metadata": {
    "collapsed": false,
    "scrolled": true
   },
   "outputs": [
    {
     "name": "stdout",
     "output_type": "stream",
     "text": [
      "1 loops, best of 3: 2.55 s per loop\n"
     ]
    }
   ],
   "source": [
    "@biopy_benchmark\n",
    "def read_fasta_file():\n",
    "    list(SeqIO.parse(open(get_reference_sequences()),'fasta'))"
   ]
  },
  {
   "cell_type": "code",
   "execution_count": 5,
   "metadata": {
    "collapsed": false
   },
   "outputs": [
    {
     "name": "stdout",
     "output_type": "stream",
     "text": [
      "100 loops, best of 3: 4.56 ms per loop\n"
     ]
    }
   ],
   "source": [
    "@biopy_benchmark\n",
    "def reverse_complement():\n",
    "    for seq in biopy_seqs:\n",
    "        seq.reverse_complement()"
   ]
  },
  {
   "cell_type": "code",
   "execution_count": 6,
   "metadata": {
    "collapsed": false
   },
   "outputs": [
    {
     "name": "stdout",
     "output_type": "stream",
     "text": [
      "1 loops, best of 3: 2.15 s per loop\n"
     ]
    }
   ],
   "source": [
    "instances = [Seq(motif_1)]\n",
    "m = motifs.create(instances)\n",
    "@biopy_benchmark\n",
    "def search_for_motif():\n",
    "    for seq in biopy_seqs:\n",
    "        for pos, motif in m.instances.search(seq):\n",
    "            pass\n",
    "    "
   ]
  },
  {
   "cell_type": "code",
   "execution_count": 7,
   "metadata": {
    "collapsed": false
   },
   "outputs": [
    {
     "name": "stdout",
     "output_type": "stream",
     "text": [
      "1 loops, best of 3: 298 ms per loop\n"
     ]
    },
    {
     "name": "stderr",
     "output_type": "stream",
     "text": [
      "/Users/brynt/.virtualenvs/skbio-benchmarking/lib/python2.7/site-packages/Bio/Seq.py:2040: BiopythonWarning: Partial codon, len(sequence) not a multiple of three. Explicitly trim the sequence or add trailing N before translation. This may become an error in future.\n",
      "  BiopythonWarning)\n"
     ]
    }
   ],
   "source": [
    "@biopy_benchmark\n",
    "def translate():\n",
    "    for seq in biopy_seqs:\n",
    "        seq.translate()\n"
   ]
  },
  {
   "cell_type": "code",
   "execution_count": 8,
   "metadata": {
    "collapsed": false
   },
   "outputs": [
    {
     "name": "stdout",
     "output_type": "stream",
     "text": [
      "100 loops, best of 3: 5.63 ms per loop\n"
     ]
    }
   ],
   "source": [
    "seqs = biopy_seqs + gapped_biopy_seqs\n",
    "@biopy_benchmark\n",
    "def filter_fasta_to_no_gaps():\n",
    "    [s for s in seqs if '-' in s or '.' in s]"
   ]
  },
  {
   "cell_type": "code",
   "execution_count": 9,
   "metadata": {
    "collapsed": false
   },
   "outputs": [
    {
     "name": "stdout",
     "output_type": "stream",
     "text": [
      "10 loops, best of 3: 69.3 ms per loop\n"
     ]
    }
   ],
   "source": [
    "@biopy_benchmark\n",
    "def degap_all():\n",
    "    for seq in gapped_biopy_seqs:\n",
    "        seq.ungap('-').ungap('.')"
   ]
  },
  {
   "cell_type": "code",
   "execution_count": 10,
   "metadata": {
    "collapsed": false
   },
   "outputs": [
    {
     "name": "stdout",
     "output_type": "stream",
     "text": [
      "1 loops, best of 3: 9.39 s per loop\n"
     ]
    },
    {
     "name": "stderr",
     "output_type": "stream",
     "text": [
      "/Users/brynt/.virtualenvs/skbio-benchmarking/lib/python2.7/site-packages/Bio/Seq.py:151: BiopythonWarning: Biopython Seq objects now use string comparison. Older versions of Biopython used object comparison. During this transition, please use hash(id(my_seq)) or my_dict[id(my_seq)] if you want the old behaviour, or use hash(str(my_seq)) or my_dict[str(my_seq)] for the new string hashing behaviour.\n",
      "  \"the new string hashing behaviour.\", BiopythonWarning)\n"
     ]
    }
   ],
   "source": [
    "from collections import defaultdict\n",
    "\n",
    "@biopy_benchmark\n",
    "def kmer_count_5():\n",
    "    for e in biopy_seqs:\n",
    "        d = defaultdict(int)\n",
    "        for i in range(len(e)-5 +1):\n",
    "            d[e[i:i+5]] += 1"
   ]
  },
  {
   "cell_type": "code",
   "execution_count": 11,
   "metadata": {
    "collapsed": false
   },
   "outputs": [
    {
     "name": "stdout",
     "output_type": "stream",
     "text": [
      "1 loops, best of 3: 6.99 s per loop\n"
     ]
    }
   ],
   "source": [
    "@biopy_benchmark\n",
    "def kmer_count_25():\n",
    "    for e in biopy_seqs:\n",
    "        d = defaultdict(int)\n",
    "        for i in range(len(e)-25 +1):\n",
    "            d[e[i:i+25]] += 1"
   ]
  },
  {
   "cell_type": "code",
   "execution_count": 12,
   "metadata": {
    "collapsed": false
   },
   "outputs": [
    {
     "name": "stdout",
     "output_type": "stream",
     "text": [
      "1 loops, best of 3: 356 ms per loop\n"
     ]
    }
   ],
   "source": [
    "#*We were unable to do this with a public method*\n",
    "verify_seqs = [Seq(seq, IUPAC.IUPACAmbiguousDNA) for ident, seq in sequences]\n",
    "@biopy_benchmark\n",
    "def validate_chars():\n",
    "    for seq in verify_seqs:\n",
    "        _verify_alphabet(seq)\n"
   ]
  },
  {
   "cell_type": "code",
   "execution_count": 13,
   "metadata": {
    "collapsed": false
   },
   "outputs": [
    {
     "name": "stdout",
     "output_type": "stream",
     "text": [
      "1 loops, best of 3: 372 ms per loop\n"
     ]
    }
   ],
   "source": [
    "#*We were unable to do this with a public method*\n",
    "@biopy_benchmark\n",
    "def filter_invalid_seqs():\n",
    "    list([seq for seq in verify_seqs if _verify_alphabet(seq)])"
   ]
  },
  {
   "cell_type": "code",
   "execution_count": 14,
   "metadata": {
    "collapsed": false
   },
   "outputs": [],
   "source": [
    "# We were unable to perform this operation in biopython\n",
    "# @biopy_benchmark\n",
    "# def expand_degenerates():\n",
    "#     pass"
   ]
  },
  {
   "cell_type": "code",
   "execution_count": 15,
   "metadata": {
    "collapsed": false
   },
   "outputs": [
    {
     "name": "stdout",
     "output_type": "stream",
     "text": [
      "100 loops, best of 3: 18 ms per loop\n"
     ]
    }
   ],
   "source": [
    "@biopy_benchmark\n",
    "def gc_content():\n",
    "    for seq in biopy_seqs:\n",
    "        GC(seq)"
   ]
  },
  {
   "cell_type": "code",
   "execution_count": 16,
   "metadata": {
    "collapsed": false
   },
   "outputs": [
    {
     "name": "stdout",
     "output_type": "stream",
     "text": [
      "1000 loops, best of 3: 1.09 ms per loop\n"
     ]
    }
   ],
   "source": [
    "@biopy_benchmark\n",
    "def slice_at_midpoint():\n",
    "    for e in biopy_seqs:\n",
    "        e[:len(e)]"
   ]
  },
  {
   "cell_type": "code",
   "execution_count": 17,
   "metadata": {
    "collapsed": false
   },
   "outputs": [],
   "source": [
    "# We were unable to perform this operation in biopython\n",
    "# @biopy_benchmark\n",
    "# def find_motif_in_gapped():\n",
    "#     pass"
   ]
  },
  {
   "cell_type": "code",
   "execution_count": 18,
   "metadata": {
    "collapsed": false
   },
   "outputs": [],
   "source": [
    "biopy_benchmark.record(\"./biopy.csv\")"
   ]
  }
 ],
 "metadata": {
  "kernelspec": {
   "display_name": "Python 2",
   "language": "python",
   "name": "python2"
  },
  "language_info": {
   "codemirror_mode": {
    "name": "ipython",
    "version": 2
   },
   "file_extension": ".py",
   "mimetype": "text/x-python",
   "name": "python",
   "nbconvert_exporter": "python",
   "pygments_lexer": "ipython2",
   "version": "2.7.6"
  }
 },
 "nbformat": 4,
 "nbformat_minor": 0
}
