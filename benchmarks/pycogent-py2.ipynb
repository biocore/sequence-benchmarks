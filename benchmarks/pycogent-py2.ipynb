{
 "cells": [
  {
   "cell_type": "code",
   "execution_count": 3,
   "metadata": {
    "collapsed": false,
    "scrolled": true
   },
   "outputs": [],
   "source": [
    "from qiime_default_reference import get_reference_sequences\n",
    "\n",
    "from test_data import gapped_sequences, sequences, motif_1\n",
    "from cogent.core.sequence import NucleicAcidSequence, DnaSequence\n",
    "from cogent.core.alphabet import AlphabetError\n",
    "from cogent.core.genetic_code import DEFAULT as standard_code\n",
    "from benchmark import Benchmark\n",
    "cogent_benchmark = Benchmark(\"pycogent\")\n",
    "\n",
    "cogent_sequences = [DnaSequence(seq) for _, seq in sequences]\n",
    "cogent_gapped_sequences = [DnaSequence(seq) for _, seq in gapped_sequences]"
   ]
  },
  {
   "cell_type": "code",
   "execution_count": 4,
   "metadata": {
    "collapsed": false
   },
   "outputs": [
    {
     "name": "stdout",
     "output_type": "stream",
     "text": [
      "10 loops, best of 3: 34 ms per loop\n"
     ]
    }
   ],
   "source": [
    "@cogent_benchmark\n",
    "def object_creation():\n",
    "    for id_, seq in sequences:\n",
    "        DnaSequence(seq, check=False)"
   ]
  },
  {
   "cell_type": "code",
   "execution_count": 5,
   "metadata": {
    "collapsed": false
   },
   "outputs": [
    {
     "name": "stdout",
     "output_type": "stream",
     "text": [
      "10 loops, best of 3: 56.9 ms per loop\n"
     ]
    }
   ],
   "source": [
    "@cogent_benchmark\n",
    "def object_creation_validate():\n",
    "    for id_, seq in sequences:\n",
    "        DnaSequence(seq)"
   ]
  },
  {
   "cell_type": "code",
   "execution_count": 6,
   "metadata": {
    "collapsed": false
   },
   "outputs": [
    {
     "name": "stdout",
     "output_type": "stream",
     "text": [
      "1 loops, best of 3: 187 ms per loop\n"
     ]
    }
   ],
   "source": [
    "@cogent_benchmark\n",
    "def reverse_complement():\n",
    "    for e in cogent_sequences:\n",
    "        DnaSequence(e).rc()"
   ]
  },
  {
   "cell_type": "code",
   "execution_count": 7,
   "metadata": {
    "collapsed": false
   },
   "outputs": [
    {
     "name": "stdout",
     "output_type": "stream",
     "text": [
      "1 loops, best of 3: 291 ms per loop\n"
     ]
    }
   ],
   "source": [
    "@cogent_benchmark\n",
    "def degap_all():\n",
    "    for e in cogent_gapped_sequences:\n",
    "        DnaSequence(e).degap()"
   ]
  },
  {
   "cell_type": "code",
   "execution_count": 8,
   "metadata": {
    "collapsed": false
   },
   "outputs": [
    {
     "name": "stdout",
     "output_type": "stream",
     "text": [
      "10 loops, best of 3: 123 ms per loop\n"
     ]
    }
   ],
   "source": [
    "@cogent_benchmark\n",
    "def translate():\n",
    "    for e in cogent_sequences:\n",
    "        try:\n",
    "            e.getTranslation()\n",
    "        except AlphabetError:\n",
    "            pass"
   ]
  },
  {
   "cell_type": "code",
   "execution_count": 9,
   "metadata": {
    "collapsed": false
   },
   "outputs": [
    {
     "name": "stdout",
     "output_type": "stream",
     "text": [
      "100 loops, best of 3: 7.24 ms per loop\n"
     ]
    }
   ],
   "source": [
    "@cogent_benchmark\n",
    "def search_for_motif():\n",
    "    for e in cogent_sequences:\n",
    "        str(e).find(motif_1)"
   ]
  },
  {
   "cell_type": "code",
   "execution_count": 10,
   "metadata": {
    "collapsed": false
   },
   "outputs": [
    {
     "name": "stdout",
     "output_type": "stream",
     "text": [
      "1 loops, best of 3: 35.7 s per loop\n"
     ]
    }
   ],
   "source": [
    "from collections import defaultdict\n",
    "\n",
    "@cogent_benchmark\n",
    "def kmer_count_5():\n",
    "    for e in cogent_sequences:\n",
    "        d = defaultdict(int)\n",
    "        for i in range(len(e)-5+1):\n",
    "            d[e[i:i+5]] += 1"
   ]
  },
  {
   "cell_type": "code",
   "execution_count": 11,
   "metadata": {
    "collapsed": false
   },
   "outputs": [
    {
     "name": "stdout",
     "output_type": "stream",
     "text": [
      "1 loops, best of 3: 33.3 s per loop\n"
     ]
    }
   ],
   "source": [
    "@cogent_benchmark\n",
    "def kmer_count_25():\n",
    "    for e in cogent_sequences:\n",
    "        d = defaultdict(int)\n",
    "        for i in range(len(e)-25+1):\n",
    "            d[e[i:i+25]] += 1"
   ]
  },
  {
   "cell_type": "code",
   "execution_count": 12,
   "metadata": {
    "collapsed": false
   },
   "outputs": [
    {
     "name": "stdout",
     "output_type": "stream",
     "text": [
      "10 loops, best of 3: 72.2 ms per loop\n"
     ]
    }
   ],
   "source": [
    "x = [DnaSequence(seq, check=False) for _, seq in sequences]\n",
    "\n",
    "@cogent_benchmark\n",
    "def validate_chars():\n",
    "    for e in x:\n",
    "        e.isValid()"
   ]
  },
  {
   "cell_type": "code",
   "execution_count": 13,
   "metadata": {
    "collapsed": false
   },
   "outputs": [
    {
     "name": "stdout",
     "output_type": "stream",
     "text": [
      "10 loops, best of 3: 48.2 ms per loop\n"
     ]
    }
   ],
   "source": [
    "@cogent_benchmark\n",
    "def filter_invalid_seqs():\n",
    "    l = []\n",
    "    for id_, seq in sequences:\n",
    "        try:\n",
    "            l.append(DnaSequence(seq, check=True))\n",
    "        except AlphabetError:\n",
    "            pass"
   ]
  },
  {
   "cell_type": "code",
   "execution_count": 14,
   "metadata": {
    "collapsed": false
   },
   "outputs": [
    {
     "name": "stdout",
     "output_type": "stream",
     "text": [
      "1 loops, best of 3: 1.03 s per loop\n"
     ]
    }
   ],
   "source": [
    "from cogent.seqsim.sequence_generators import SequenceGenerator, IUPAC_DNA\n",
    "\n",
    "def expand_degeneracies(raw_primer):\n",
    "    \"\"\"Cut from PrimerProspector: \n",
    "    http://sourceforge.net/p/pprospector/code/HEAD/tree/tags/1.0.1-release/primerprospector/check_primer_barcode_dimers.py\n",
    "    \"\"\"\n",
    "    \n",
    "    primers = SequenceGenerator(template=raw_primer, alphabet=IUPAC_DNA)\n",
    "    expanded_primers = []\n",
    "    for primer in primers:\n",
    "        expanded_primers.append(primer)\n",
    "        \n",
    "    return expanded_primers\n",
    "\n",
    "@cogent_benchmark\n",
    "def expand_degenerates():\n",
    "    for e in cogent_sequences:\n",
    "        expand_degeneracies(e)\n",
    "        "
   ]
  },
  {
   "cell_type": "code",
   "execution_count": 15,
   "metadata": {
    "collapsed": false
   },
   "outputs": [
    {
     "name": "stdout",
     "output_type": "stream",
     "text": [
      "100 loops, best of 3: 6.99 ms per loop\n"
     ]
    }
   ],
   "source": [
    "@cogent_benchmark\n",
    "def gc_content():\n",
    "    for e in cogent_sequences:\n",
    "        (e.count('G') + e.count('C')) / len(e)"
   ]
  },
  {
   "cell_type": "code",
   "execution_count": 16,
   "metadata": {
    "collapsed": false
   },
   "outputs": [
    {
     "name": "stdout",
     "output_type": "stream",
     "text": [
      "1 loops, best of 3: 550 ms per loop\n"
     ]
    }
   ],
   "source": [
    "@cogent_benchmark\n",
    "def find_motif_in_gapped():\n",
    "    for e in cogent_sequences:\n",
    "        gapped, ungapped = e.gapMaps()\n",
    "        degapped_e = e.degap()\n",
    "        try:\n",
    "            start = str(degapped_e).index(motif_1)\n",
    "        except ValueError:\n",
    "            pass\n",
    "        "
   ]
  },
  {
   "cell_type": "code",
   "execution_count": 17,
   "metadata": {
    "collapsed": false
   },
   "outputs": [
    {
     "name": "stdout",
     "output_type": "stream",
     "text": [
      "1 loops, best of 3: 8.35 s per loop\n"
     ]
    }
   ],
   "source": [
    "from cogent.parse.fasta import MinimalFastaParser\n",
    "@cogent_benchmark\n",
    "def read_fasta_file():\n",
    "    for e in MinimalFastaParser(open(get_reference_sequences())):\n",
    "        DnaSequence(e[1], Name=e[0])"
   ]
  },
  {
   "cell_type": "code",
   "execution_count": 18,
   "metadata": {
    "collapsed": false
   },
   "outputs": [
    {
     "name": "stdout",
     "output_type": "stream",
     "text": [
      "10 loops, best of 3: 38.2 ms per loop\n"
     ]
    }
   ],
   "source": [
    "@cogent_benchmark\n",
    "def slice_at_midpoint():\n",
    "    for e in cogent_sequences:\n",
    "        e[:len(e)]"
   ]
  },
  {
   "cell_type": "code",
   "execution_count": 19,
   "metadata": {
    "collapsed": true
   },
   "outputs": [],
   "source": [
    "cogent_benchmark.record(\"cogent.csv\")"
   ]
  }
 ],
 "metadata": {
  "kernelspec": {
   "display_name": "Python 2",
   "language": "python",
   "name": "python2"
  },
  "language_info": {
   "codemirror_mode": {
    "name": "ipython",
    "version": 2
   },
   "file_extension": ".py",
   "mimetype": "text/x-python",
   "name": "python",
   "nbconvert_exporter": "python",
   "pygments_lexer": "ipython2",
   "version": "2.7.6"
  }
 },
 "nbformat": 4,
 "nbformat_minor": 0
}
